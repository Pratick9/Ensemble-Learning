{
  "cells": [
    {
      "cell_type": "markdown",
      "metadata": {
        "id": "view-in-github",
        "colab_type": "text"
      },
      "source": [
        "<a href=\"https://colab.research.google.com/github/Pratick9/Ensemble-Learning/blob/main/Ensemble_Learning.ipynb\" target=\"_parent\"><img src=\"https://colab.research.google.com/assets/colab-badge.svg\" alt=\"Open In Colab\"/></a>"
      ]
    },
    {
      "cell_type": "markdown",
      "metadata": {
        "id": "e1ZqldDk87dJ"
      },
      "source": [
        "\n",
        "> **Random Forest** - It is like Binary Decision Tree ....Feature are extracted using CNN ,using that features the prediction is made and average of the predictions are taken as the final prediction \n",
        "\n",
        "> **K-Nearest Neighbour** - Data are drawn in x and y -axis ,the unknown point(the point you want to predict) is taken and the distance of all the nearest neighbouring points is calculated and the nearest group is predicted "
      ]
    },
    {
      "cell_type": "code",
      "execution_count": null,
      "metadata": {
        "id": "iVASjYEdfPXx"
      },
      "outputs": [],
      "source": [
        "from google.colab import drive\n",
        "drive.mount('/content/drive')"
      ]
    },
    {
      "cell_type": "code",
      "execution_count": null,
      "metadata": {
        "id": "BE2s0DspEGMd"
      },
      "outputs": [],
      "source": [
        "from keras.models import Sequential             #the Sequential module which is used for initializing our model.\n",
        "from keras.layers import Convolution2D as c2d   #we’ll use for the first step of making the CNN that is the convolution step in which we add convolutional layers.\n",
        "from keras.layers import MaxPooling2D           #the pooling step that will add our pooling layers .\n",
        "from keras.layers import Flatten                #flattening\n",
        "from keras.layers import Dense                  #this is the package we use to add the fully connected layer.\n",
        "import tensorflow as tf\n",
        "from tensorflow.keras.preprocessing import image\n",
        "from keras import datasets\n",
        "from sklearn.model_selection import train_test_split\n",
        "from tqdm import tqdm #progresss bar \n",
        "import matplotlib.pyplot as plt\n",
        "from sklearn import metrics\n",
        "import numpy as np\n",
        "import os \n",
        "import shutil\n",
        "import pandas as pd"
      ]
    },
    {
      "cell_type": "markdown",
      "metadata": {
        "id": "INKS-YrrrboS"
      },
      "source": [
        "# ***Image processing and Data spliting***"
      ]
    },
    {
      "cell_type": "code",
      "execution_count": null,
      "metadata": {
        "id": "juq8fX30_A-T"
      },
      "outputs": [],
      "source": [
        "# def train_test_split():\n",
        "#     print(\"########### Train Test Val Script started ###########\")\n",
        "#     data_csv = pd.read_csv(\"/content/drive/MyDrive/Fish Dataset/class_id.csv\") ##Use if you have classes saved in any .csv file\n",
        "\n",
        "#     root_dir = '/content/drive/MyDrive/Fish New Sp Dataset'\n",
        "#     classes_dir = ['fish_01', 'fish_02','fish_03','fish_04','fish_05','fish_06','fish_07','fish_08','fish_09','fish_10','fish_11','fish_12','fish_13','fish_14','fish_15','fish_16','fish_17','fish_18','fish_19','fish_20','fish_21','fish_22','fish_23']\n",
        "\n",
        "#     #for name in data_csv['file_name'].unique()[:10]:\n",
        "#     #     classes_dir.append(name)\n",
        "\n",
        "#     processed_dir = '/content/drive/MyDrive/Fish Dataset'\n",
        "\n",
        "#     val_ratio = 0.20\n",
        "#     test_ratio = 0.20\n",
        "#     os.makedirs(root_dir + '/train//')\n",
        "#     os.makedirs(root_dir + '/val//')\n",
        "#     os.makedirs(root_dir + '/test//')\n",
        "#     for cls in classes_dir:\n",
        "#         # Creating partitions of the data after shuffeling\n",
        "#         print(\"$$$$$$$ Class Name \" + cls + \" $$$$$$$\")\n",
        "#         src = processed_dir +\"/\" + cls  # Folder to copy images from\n",
        "\n",
        "#         allFileNames = os.listdir(src)\n",
        "#         print(allFileNames)\n",
        "#         np.random.shuffle(allFileNames)\n",
        "#         train_FileNames, val_FileNames, test_FileNames = np.split(np.array(allFileNames),\n",
        "#                                                                   [int(len(allFileNames) * (1 - (val_ratio + test_ratio))),\n",
        "#                                                                    int(len(allFileNames) * (1 - val_ratio)),\n",
        "#                                                                    ])\n",
        "#         # filne=[]\n",
        "#         # filena=[filne.append(name[5:-4])for name in train_FileNames]\n",
        "#         train_FileNames = [src + '//' + name for name in train_FileNames.tolist()]\n",
        "#         val_FileNames = [src + '//' + name for name in val_FileNames.tolist()]\n",
        "#         test_FileNames = [src + '//' + name for name in test_FileNames.tolist()]\n",
        "#         print('Total images: '+ str(len(allFileNames)))\n",
        "#         print('Training: '+ str(len(train_FileNames)))\n",
        "#         print('Validation: '+  str(len(val_FileNames)))\n",
        "#         print('Testing: '+ str(len(test_FileNames)))\n",
        "\n",
        "#         # # Creating Train / Val / Test folders (One time use)\n",
        "        \n",
        "\n",
        "#         # Copy-pasting images\n",
        "#         for name in train_FileNames:\n",
        "#             shutil.copy(name, root_dir + '/train/')# + cls)\n",
        "\n",
        "#         for name in val_FileNames:\n",
        "#             shutil.copy(name, root_dir + '/val/')# + cls)\n",
        "\n",
        "#         for name in test_FileNames:\n",
        "#             shutil.copy(name, root_dir + '/test/')# + cls)\n",
        "\n",
        "#     print(\"########### Train Test Val Script Ended ###########\")\n",
        "\n",
        "# train_test_split()"
      ]
    },
    {
      "cell_type": "code",
      "execution_count": null,
      "metadata": {
        "id": "tSJJlbJ98Mq8"
      },
      "outputs": [],
      "source": [
        "# src='/content/drive/MyDrive/Fish New Sp Dataset/train'\n",
        "# allFileNames = os.listdir(src) \n",
        "# print('Total images: '+ str(len(allFileNames)))\n"
      ]
    },
    {
      "cell_type": "code",
      "execution_count": null,
      "metadata": {
        "id": "JvJq_UW5ZkW9"
      },
      "outputs": [],
      "source": [
        "# processed_dir = '/content/drive/MyDrive/Fish New Sp Dataset/train'\n",
        "# src = processed_dir# +\"/\" + cls  # Folder to copy images from\n",
        "# data_csv = pd.read_csv(\"/content/drive/MyDrive/Fish Dataset/class_id.csv\") ##Use if you have classes saved in any .csv file\n",
        "\n",
        "# allFileNames = os.listdir(src)\n",
        "# filne=[]\n",
        "# ctr=-1\n",
        "# classes_dir = ['file_name', 'cluster_id']\n",
        "# import csv\n",
        "# with open('/content/sample_data/train.csv','w', encoding='UTF8', newline='') as f1:\n",
        "#     #writer.writerow(classes_dir)\n",
        "#     writer = csv.DictWriter(f1, fieldnames=classes_dir)     \n",
        "#     writer.writeheader()   \n",
        "#     # print(data_csv['file_name'])\n",
        "#     # writer=csv.writer(f1, delimiter='\\t',lineterminator='\\n',)\n",
        "#     filena=[filne.append(name[6:-4])for name in allFileNames]\n",
        "#     print(len(filne))\n",
        "#     for i in data_csv['file_name']:\n",
        "#       ctr+=1\n",
        "#       if i in filne :\n",
        "#         my_dict = {\"file_name\":'',\"cluster_id\":''};\n",
        "#         my_dict[\"file_name\"]=i\n",
        "#         my_dict[\"cluster_id\"]=data_csv['cluster_id'][ctr]\n",
        "#         print(my_dict)\n",
        "#         writer.writerow(my_dict)"
      ]
    },
    {
      "cell_type": "code",
      "execution_count": null,
      "metadata": {
        "id": "vAioNu_r1_YA"
      },
      "outputs": [],
      "source": [
        "# processed_dir = '/content/drive/MyDrive/Fish New Sp Dataset/test'\n",
        "# src = processed_dir# +\"/\" + cls  # Folder to copy images from\n",
        "# data_csv = pd.read_csv(\"/content/drive/MyDrive/Fish Dataset/class_id.csv\") ##Use if you have classes saved in any .csv file\n",
        "\n",
        "# allFileNames = os.listdir(src)\n",
        "# filne=[]\n",
        "# ctr=-1\n",
        "# classes_dir = ['file_name', 'cluster_id']\n",
        "# import csv\n",
        "# with open('/content/sample_data/test.csv','w', encoding='UTF8', newline='') as f1:\n",
        "#     #writer.writerow(classes_dir)\n",
        "#     writer = csv.DictWriter(f1, fieldnames=classes_dir)     \n",
        "#     writer.writeheader()   \n",
        "#     # print(data_csv['file_name'])\n",
        "#     # writer=csv.writer(f1, delimiter='\\t',lineterminator='\\n',)\n",
        "#     filena=[filne.append(name[6:-4])for name in allFileNames]\n",
        "#     print(len(filne))\n",
        "#     for i in data_csv['file_name']:\n",
        "#       ctr+=1\n",
        "#       if i in filne :\n",
        "#         my_dict = {\"file_name\":'',\"cluster_id\":''};\n",
        "#         my_dict[\"file_name\"]=i\n",
        "#         my_dict[\"cluster_id\"]=data_csv['cluster_id'][ctr]\n",
        "#         print(my_dict)\n",
        "#         writer.writerow(my_dict)"
      ]
    },
    {
      "cell_type": "code",
      "execution_count": null,
      "metadata": {
        "id": "xptUlQTI2Mqg"
      },
      "outputs": [],
      "source": [
        "# processed_dir = '/content/drive/MyDrive/Fish New Sp Dataset/val'\n",
        "# src = processed_dir# +\"/\" + cls  # Folder to copy images from\n",
        "# data_csv = pd.read_csv(\"/content/drive/MyDrive/Fish Dataset/class_id.csv\") ##Use if you have classes saved in any .csv file\n",
        "\n",
        "# allFileNames = os.listdir(src)\n",
        "# filne=[]\n",
        "# ctr=-1\n",
        "# classes_dir = ['file_name', 'cluster_id']\n",
        "# import csv\n",
        "# with open('/content/sample_data/val.csv','w', encoding='UTF8', newline='') as f1:\n",
        "#     #writer.writerow(classes_dir)\n",
        "#     writer = csv.DictWriter(f1, fieldnames=classes_dir)     \n",
        "#     writer.writeheader()   \n",
        "#     # print(data_csv['file_name'])\n",
        "#     # writer=csv.writer(f1, delimiter='\\t',lineterminator='\\n',)\n",
        "#     filena=[filne.append(name[6:-4])for name in allFileNames]\n",
        "#     print(len(filne))\n",
        "#     for i in data_csv['file_name']:\n",
        "#       ctr+=1\n",
        "#       if i in filne :\n",
        "#         my_dict = {\"file_name\":'',\"cluster_id\":''};\n",
        "#         my_dict[\"file_name\"]=i\n",
        "#         my_dict[\"cluster_id\"]=data_csv['cluster_id'][ctr]\n",
        "#         print(my_dict)\n",
        "#         writer.writerow(my_dict)"
      ]
    },
    {
      "cell_type": "code",
      "execution_count": null,
      "metadata": {
        "id": "wQ4NRFJPsal9"
      },
      "outputs": [],
      "source": [
        "# print(\"TO CHECK ANY FILE IS LEFT OVER IN TRAIN\")\n",
        "# processed_dir = '/content/drive/MyDrive/Fish New Sp Dataset/train'\n",
        "# allFileNames = os.listdir(processed_dir)\n",
        "# filne=[]\n",
        "# [filne.append(name[6:-4])for name in allFileNames]\n",
        "# data_csv2=pd.read_csv('/content/sample_data/train.csv')\n",
        "# # allFileNames = os.listdir(processed_dir)\n",
        "# # print(data_csv2)\n",
        "# filenames=[]\n",
        "# ctr=0\n",
        "# for i in data_csv2['file_name']:\n",
        "#   filenames.append(i)\n",
        "# for i in filne:\n",
        "#   if(i not in filenames):\n",
        "#     print(i)\n",
        "#     ctr+=1\n",
        "# print(ctr)"
      ]
    },
    {
      "cell_type": "code",
      "execution_count": null,
      "metadata": {
        "id": "SGS63Y8P2raJ"
      },
      "outputs": [],
      "source": [
        "# print(\"TO CHECK ANY FILE IS LEFT OVER IN TEST\")\n",
        "# processed_dir = '/content/drive/MyDrive/Fish New Sp Dataset/test'\n",
        "# allFileNames = os.listdir(processed_dir)\n",
        "# filne=[]\n",
        "# [filne.append(name[6:-4])for name in allFileNames]\n",
        "# data_csv2=pd.read_csv('/content/sample_data/test.csv')\n",
        "# # allFileNames = os.listdir(processed_dir)\n",
        "# # print(data_csv2)\n",
        "# filenames=[]\n",
        "# ctr=0\n",
        "# for i in data_csv2['file_name']:\n",
        "#   filenames.append(i)\n",
        "# for i in filne:\n",
        "#   if(i not in filenames):\n",
        "#     print(i)\n",
        "#     ctr+=1\n",
        "# print(ctr)"
      ]
    },
    {
      "cell_type": "code",
      "execution_count": null,
      "metadata": {
        "id": "dihqqtb8jl7Z"
      },
      "outputs": [],
      "source": [
        "import pandas as pd\n",
        "data = '/content/sample_data/train.csv'\n",
        "train = pd.read_csv(data)\n",
        "data2 = '/content/sample_data/test.csv'\n",
        "test=pd.read_csv(data2)"
      ]
    },
    {
      "cell_type": "code",
      "execution_count": null,
      "metadata": {
        "colab": {
          "base_uri": "https://localhost:8080/"
        },
        "id": "aX0_GX81ZeuS",
        "outputId": "f7248118-a787-4207-96ac-ebd5bfd9abf8"
      },
      "outputs": [
        {
          "output_type": "execute_result",
          "data": {
            "text/plain": [
              "(5440, 2)"
            ]
          },
          "metadata": {},
          "execution_count": 11
        }
      ],
      "source": [
        "test.shape"
      ]
    },
    {
      "cell_type": "code",
      "execution_count": null,
      "metadata": {
        "colab": {
          "base_uri": "https://localhost:8080/"
        },
        "id": "GYw-dc1yuIOy",
        "outputId": "11e1c19d-677c-4167-c8c8-6d114808bb08"
      },
      "outputs": [
        {
          "output_type": "execute_result",
          "data": {
            "text/plain": [
              "(16268, 2)"
            ]
          },
          "metadata": {},
          "execution_count": 12
        }
      ],
      "source": [
        "train.shape"
      ]
    },
    {
      "cell_type": "code",
      "execution_count": null,
      "metadata": {
        "colab": {
          "base_uri": "https://localhost:8080/"
        },
        "id": "CcTWVWLQnWVg",
        "outputId": "a179dc0d-f0c8-417b-c958-379be900c50a"
      },
      "outputs": [
        {
          "output_type": "stream",
          "name": "stdout",
          "text": [
            "8134\n"
          ]
        }
      ],
      "source": [
        "chang=int(train.shape[0]/2)\n",
        "print(chang)"
      ]
    },
    {
      "cell_type": "code",
      "execution_count": null,
      "metadata": {
        "colab": {
          "base_uri": "https://localhost:8080/"
        },
        "id": "mZXHQ8Bq_HXQ",
        "outputId": "33f880fb-699b-4793-db89-edfb521c7ee1"
      },
      "outputs": [
        {
          "output_type": "stream",
          "name": "stderr",
          "text": [
            "100%|██████████| 8134/8134 [00:16<00:00, 487.95it/s]\n"
          ]
        }
      ],
      "source": [
        "train_image=[]\n",
        "for i in tqdm(range(chang)):\n",
        "      img = image.load_img('/content/drive/MyDrive/Fish New Sp Dataset/train/fish_0'+train['file_name'][i]+'.png',target_size=(150,150,3))\n",
        "      img = image.img_to_array(img)\n",
        "      img = img/255\n",
        "      train_image.append(img)\n"
      ]
    },
    {
      "cell_type": "code",
      "execution_count": null,
      "metadata": {
        "id": "7tUAmZLjDy2Y",
        "colab": {
          "base_uri": "https://localhost:8080/"
        },
        "outputId": "0f11beca-ef61-42de-ed92-527b051db922"
      },
      "outputs": [
        {
          "output_type": "execute_result",
          "data": {
            "text/plain": [
              "1628"
            ]
          },
          "metadata": {},
          "execution_count": 17
        }
      ],
      "source": [
        "chan=int(test.shape[0]/3.34)\n",
        "chan"
      ]
    },
    {
      "cell_type": "code",
      "execution_count": null,
      "metadata": {
        "colab": {
          "base_uri": "https://localhost:8080/"
        },
        "id": "3kHGG5UGhG6S",
        "outputId": "bb28f349-ad53-442d-f42a-ec79053622c9"
      },
      "outputs": [
        {
          "output_type": "stream",
          "name": "stderr",
          "text": [
            "100%|██████████| 1628/1628 [06:36<00:00,  4.10it/s]\n"
          ]
        }
      ],
      "source": [
        "test_image=[]\n",
        "for i in tqdm(range(chan)):\n",
        "  img = image.load_img('/content/drive/MyDrive/Fish New Sp Dataset/test/fish_0'+test['file_name'][i]+'.png',target_size=(150,150,3))\n",
        "  img = image.img_to_array(img)\n",
        "  img = img/255\n",
        "  test_image.append(img)\n"
      ]
    },
    {
      "cell_type": "code",
      "execution_count": null,
      "metadata": {
        "id": "0i7bzJLfl76C"
      },
      "outputs": [],
      "source": [
        "X_test=np.array(test_image)"
      ]
    },
    {
      "cell_type": "code",
      "execution_count": null,
      "metadata": {
        "colab": {
          "base_uri": "https://localhost:8080/"
        },
        "id": "74xPzN1ymKEM",
        "outputId": "8483f267-50c9-4713-e5b6-3a69aaced3e6"
      },
      "outputs": [
        {
          "data": {
            "text/plain": [
              "(906, 400, 400, 3)"
            ]
          },
          "execution_count": 18,
          "metadata": {},
          "output_type": "execute_result"
        }
      ],
      "source": [
        "X_test.shape"
      ]
    },
    {
      "cell_type": "code",
      "source": [
        "X_train=np.array(train_image)"
      ],
      "metadata": {
        "id": "27yh9rZjj-ie"
      },
      "execution_count": null,
      "outputs": []
    },
    {
      "cell_type": "code",
      "execution_count": null,
      "metadata": {
        "colab": {
          "base_uri": "https://localhost:8080/"
        },
        "id": "afQhGaObZ9QC",
        "outputId": "5ddd29ad-8626-4eab-c3e0-bf1199cb2d49"
      },
      "outputs": [
        {
          "data": {
            "text/plain": [
              "(3128, 400, 400, 3)"
            ]
          },
          "execution_count": 20,
          "metadata": {},
          "output_type": "execute_result"
        }
      ],
      "source": [
        "X_train.shape"
      ]
    },
    {
      "cell_type": "code",
      "execution_count": null,
      "metadata": {
        "colab": {
          "base_uri": "https://localhost:8080/",
          "height": 286
        },
        "id": "pCN-O33qaCB4",
        "outputId": "97021cab-be2a-4465-94a1-d2db0f102628"
      },
      "outputs": [
        {
          "data": {
            "text/plain": [
              "<matplotlib.image.AxesImage at 0x7f682a3ccb20>"
            ]
          },
          "execution_count": 21,
          "metadata": {},
          "output_type": "execute_result"
        },
        {
          "data": {
            "image/png": "[encoded data removed]",
            "text/plain": [
              "<Figure size 432x288 with 1 Axes>"
            ]
          },
          "metadata": {},
          "output_type": "display_data"
        }
      ],
      "source": [
        "plt.imshow(X_train[6])"
      ]
    },
    {
      "cell_type": "code",
      "execution_count": null,
      "metadata": {
        "colab": {
          "base_uri": "https://localhost:8080/"
        },
        "id": "8Zm4Hvvraomi",
        "outputId": "184b4bba-db82-41ff-ad6e-6d6269d6d4e4"
      },
      "outputs": [
        {
          "output_type": "execute_result",
          "data": {
            "text/plain": [
              "(8134, 1)"
            ]
          },
          "metadata": {},
          "execution_count": 21
        }
      ],
      "source": [
        "Y_train=np.array(train.drop(['file_name'],axis=1))\n",
        "Y_train=Y_train[:8134] #Y_train=Y_train[:586]\n",
        "Y_train.shape"
      ]
    },
    {
      "cell_type": "code",
      "execution_count": null,
      "metadata": {
        "colab": {
          "base_uri": "https://localhost:8080/"
        },
        "id": "0S3iZSkHqLZe",
        "outputId": "742be122-18b9-4bb8-c64a-06017bed97f9"
      },
      "outputs": [
        {
          "output_type": "execute_result",
          "data": {
            "text/plain": [
              "(1628, 1)"
            ]
          },
          "metadata": {},
          "execution_count": 22
        }
      ],
      "source": [
        "Y_test=np.array(test.drop(['file_name'],axis=1))\n",
        "Y_test=Y_test[:1628]# Y_test=Y_test[:322\n",
        "Y_test.shape"
      ]
    },
    {
      "cell_type": "code",
      "execution_count": null,
      "metadata": {
        "colab": {
          "base_uri": "https://localhost:8080/"
        },
        "id": "dlHdS3QgchYT",
        "outputId": "f241f31f-dbd7-4189-c9f1-332614e477ba"
      },
      "outputs": [
        {
          "name": "stdout",
          "output_type": "stream",
          "text": [
            "(3873, 400, 400, 3)\n"
          ]
        }
      ],
      "source": [
        "print(X_train.shape)"
      ]
    },
    {
      "cell_type": "code",
      "execution_count": null,
      "metadata": {
        "colab": {
          "base_uri": "https://localhost:8080/"
        },
        "id": "T_UxX3ccILrZ",
        "outputId": "20fbeb24-5510-45ed-a0bb-ec7627c73b84"
      },
      "outputs": [
        {
          "name": "stdout",
          "output_type": "stream",
          "text": [
            "(3128, 400, 400, 3) \n",
            " (906, 400, 400, 3) \n",
            " (3128, 1) \n",
            " (906, 1)\n"
          ]
        }
      ],
      "source": [
        "print(X_train.shape,'\\n',X_test.shape,'\\n',Y_train.shape,'\\n',Y_test.shape)\n"
      ]
    },
    {
      "cell_type": "code",
      "execution_count": null,
      "metadata": {
        "colab": {
          "base_uri": "https://localhost:8080/",
          "height": 286
        },
        "id": "EXIAuWjVJpr1",
        "outputId": "cf200347-370b-48e7-cc69-5200306acc07"
      },
      "outputs": [
        {
          "data": {
            "text/plain": [
              "<matplotlib.image.AxesImage at 0x7f6829f1f2e0>"
            ]
          },
          "execution_count": 26,
          "metadata": {},
          "output_type": "execute_result"
        },
        {
          "data": {
            "image/png": "[encoded data removed]",
            "text/plain": [
              "<Figure size 432x288 with 1 Axes>"
            ]
          },
          "metadata": {},
          "output_type": "display_data"
        }
      ],
      "source": [
        "plt.imshow(X_test[30])"
      ]
    },
    {
      "cell_type": "code",
      "execution_count": null,
      "metadata": {
        "id": "WPSZt6l0md40"
      },
      "outputs": [],
      "source": [
        "X_train=X_train/255\n",
        "X_test=X_test/255"
      ]
    },
    {
      "cell_type": "code",
      "execution_count": null,
      "metadata": {
        "colab": {
          "base_uri": "https://localhost:8080/"
        },
        "id": "DmEqQh6hn-lC",
        "outputId": "24b15195-6e3d-4a4d-85f1-f609a925bf65"
      },
      "outputs": [
        {
          "output_type": "execute_result",
          "data": {
            "text/plain": [
              "(1628, 1)"
            ]
          },
          "metadata": {},
          "execution_count": 23
        }
      ],
      "source": [
        "# Y_test=Y_test.reshape(-1,)\n",
        "\n",
        "# Y_test[:5]\n",
        "# Y_test.shape\n",
        "Y_test.shape"
      ]
    },
    {
      "cell_type": "code",
      "execution_count": null,
      "metadata": {
        "id": "YtKmhLkt0inu"
      },
      "outputs": [],
      "source": [
        "import pandas as pd\n",
        "import matplotlib.pyplot as plt\n",
        "from mlxtend.plotting import plot_confusion_matrix\n",
        "from sklearn.model_selection import train_test_split\n",
        "from sklearn.preprocessing import StandardScaler\n",
        "from sklearn.linear_model import LogisticRegression\n",
        "from sklearn.neighbors import KNeighborsClassifier\n",
        "from sklearn.naive_bayes import GaussianNB\n",
        "from sklearn.metrics import confusion_matrix\n",
        "from sklearn.metrics import accuracy_score\n"
      ]
    },
    {
      "cell_type": "code",
      "execution_count": null,
      "metadata": {
        "id": "DZ2LSQFButMV"
      },
      "outputs": [],
      "source": [
        "from sklearn.ensemble import RandomForestClassifier \n",
        "\n",
        "\n",
        "RNC = RandomForestClassifier()   # initialising KNeighbors Classifier\n",
        "NB = GaussianNB()       "
      ]
    },
    {
      "cell_type": "code",
      "execution_count": null,
      "metadata": {
        "id": "Qr1ioHqcwP2-"
      },
      "outputs": [],
      "source": [
        "train_x=X_train.reshape(X_train.shape[0],150*150*3)\n",
        "test_x=X_test.reshape(X_test.shape[0],150*150*3)\n"
      ]
    },
    {
      "cell_type": "code",
      "execution_count": null,
      "metadata": {
        "colab": {
          "base_uri": "https://localhost:8080/"
        },
        "id": "s0F36ct8vCKQ",
        "outputId": "80745269-806a-4590-d1dd-dd310559659d"
      },
      "outputs": [
        {
          "output_type": "stream",
          "name": "stderr",
          "text": [
            "<ipython-input-27-330221197b6c>:1: DataConversionWarning: A column-vector y was passed when a 1d array was expected. Please change the shape of y to (n_samples,), for example using ravel().\n",
            "  model_kNeighborsClassifier = RNC.fit(train_x, Y_train) # fitting Training Set\n"
          ]
        }
      ],
      "source": [
        "model_kNeighborsClassifier = RNC.fit(train_x, Y_train) # fitting Training Set\n",
        "pred_RNC = model_kNeighborsClassifier.predict(test_x) # Predicting on test dataset\n"
      ]
    },
    {
      "cell_type": "code",
      "execution_count": null,
      "metadata": {
        "colab": {
          "base_uri": "https://localhost:8080/"
        },
        "id": "XeNdfH6gyq8M",
        "outputId": "24d0389d-da9f-404a-e04b-40e3fb91541b"
      },
      "outputs": [
        {
          "output_type": "stream",
          "name": "stdout",
          "text": [
            "accuracy score of KNeighbors Classifier is: 92.01474201474201\n"
          ]
        }
      ],
      "source": [
        "from sklearn.metrics import accuracy_score\n",
        "\n",
        "acc_RNC = accuracy_score(Y_test, pred_RNC)  # evaluating accuracy score\n",
        "print('accuracy score of KNeighbors Classifier is:', acc_RNC * 100)\n"
      ]
    },
    {
      "cell_type": "code",
      "execution_count": null,
      "metadata": {
        "colab": {
          "base_uri": "https://localhost:8080/"
        },
        "id": "Ol0DySwFzkfO",
        "outputId": "3b366680-0f33-41c5-b38b-354b9e0d5812"
      },
      "outputs": [
        {
          "output_type": "stream",
          "name": "stderr",
          "text": [
            "/usr/local/lib/python3.8/dist-packages/sklearn/utils/validation.py:993: DataConversionWarning: A column-vector y was passed when a 1d array was expected. Please change the shape of y to (n_samples, ), for example using ravel().\n",
            "  y = column_or_1d(y, warn=True)\n"
          ]
        }
      ],
      "source": [
        "model_NaiveBayes = NB.fit(train_x, Y_train)\n",
        "pred_nb = model_NaiveBayes.predict(test_x)\n"
      ]
    },
    {
      "cell_type": "code",
      "execution_count": null,
      "metadata": {
        "colab": {
          "base_uri": "https://localhost:8080/"
        },
        "id": "8Yd4Xi0t0SLr",
        "outputId": "417e8c14-7935-497b-bcdb-9ebf9f68f677"
      },
      "outputs": [
        {
          "output_type": "stream",
          "name": "stdout",
          "text": [
            "Accuracy of Naive Bayes Classifier: 46.37592137592137\n"
          ]
        }
      ],
      "source": [
        "acc_nb = accuracy_score(Y_test, pred_nb)\n",
        "print('Accuracy of Naive Bayes Classifier:', acc_nb * 100)"
      ]
    },
    {
      "cell_type": "code",
      "execution_count": null,
      "metadata": {
        "id": "qCZHfoyK2VXx"
      },
      "outputs": [],
      "source": [
        "from sklearn.ensemble import StackingClassifier\n"
      ]
    },
    {
      "cell_type": "code",
      "execution_count": null,
      "metadata": {
        "id": "PyzuTTuU0cEk"
      },
      "outputs": [],
      "source": [
        "lr = LogisticRegression()  # defining meta-classifier\n",
        "clf_stack = StackingClassifier(estimators=[RNC, NB], final_estimator = lr,cv = 5,)"
      ]
    },
    {
      "cell_type": "code",
      "execution_count": null,
      "metadata": {
        "id": "-ZuC_mBM6tbp"
      },
      "outputs": [],
      "source": [
        "# model_stack = clf_stack.fit(X_train, Y_train) # training of stacked model\n",
        "# pred_stack = model_stack.predict(X_test)\t # predictions on test data using stacked model\n"
      ]
    },
    {
      "cell_type": "code",
      "execution_count": null,
      "metadata": {
        "id": "icrtEa1QAfbN"
      },
      "outputs": [],
      "source": [
        "test_pred2=pd.DataFrame(pred_nb)\n",
        "train_pred2=pd.DataFrame(pred_nb)\n",
        "\n",
        "\n",
        "train_pred1=pd.DataFrame(pred_RNC)\n",
        "test_pred1=pd.DataFrame(pred_RNC)\n",
        "\n"
      ]
    },
    {
      "cell_type": "code",
      "execution_count": null,
      "metadata": {
        "colab": {
          "base_uri": "https://localhost:8080/"
        },
        "id": "5uENTryXA-cz",
        "outputId": "b86a0b56-67e1-4989-f667-2922d29c3735"
      },
      "outputs": [
        {
          "output_type": "stream",
          "name": "stderr",
          "text": [
            "/usr/local/lib/python3.8/dist-packages/sklearn/utils/validation.py:993: DataConversionWarning: A column-vector y was passed when a 1d array was expected. Please change the shape of y to (n_samples, ), for example using ravel().\n",
            "  y = column_or_1d(y, warn=True)\n",
            "/usr/local/lib/python3.8/dist-packages/sklearn/linear_model/_logistic.py:814: ConvergenceWarning: lbfgs failed to converge (status=1):\n",
            "STOP: TOTAL NO. of ITERATIONS REACHED LIMIT.\n",
            "\n",
            "Increase the number of iterations (max_iter) or scale the data as shown in:\n",
            "    https://scikit-learn.org/stable/modules/preprocessing.html\n",
            "Please also refer to the documentation for alternative solver options:\n",
            "    https://scikit-learn.org/stable/modules/linear_model.html#logistic-regression\n",
            "  n_iter_i = _check_optimize_result(\n"
          ]
        },
        {
          "output_type": "execute_result",
          "data": {
            "text/plain": [
              "0.7604422604422605"
            ]
          },
          "metadata": {},
          "execution_count": 34
        }
      ],
      "source": [
        "df = pd.concat([train_pred1, train_pred2], axis=1)\n",
        "df_test = pd.concat([test_pred1, test_pred2], axis=1)\n",
        "\n",
        "model = LogisticRegression(random_state=1)\n",
        "model.fit(df,Y_test)\n",
        "model.score(df_test, Y_test)\n"
      ]
    },
    {
      "cell_type": "code",
      "execution_count": null,
      "metadata": {
        "id": "w56rWz_CBsUu"
      },
      "outputs": [],
      "source": [
        "pred = model.predict(df_test) # Predicting on test dataset\n"
      ]
    },
    {
      "cell_type": "code",
      "execution_count": null,
      "metadata": {
        "colab": {
          "base_uri": "https://localhost:8080/"
        },
        "id": "b15CIJZ_BmOc",
        "outputId": "2a869a05-2527-4555-f520-7dea2594ebfd"
      },
      "outputs": [
        {
          "output_type": "stream",
          "name": "stdout",
          "text": [
            "accuracy score of RF and NB Classifier is: 76.04422604422605\n"
          ]
        }
      ],
      "source": [
        "from sklearn.metrics import accuracy_score\n",
        "\n",
        "acc_RNC = accuracy_score(Y_test, pred)  # evaluating accuracy score\n",
        "print('accuracy score of RF and NB Classifier is:', acc_RNC * 100)"
      ]
    },
    {
      "cell_type": "code",
      "execution_count": null,
      "metadata": {
        "colab": {
          "base_uri": "https://localhost:8080/"
        },
        "id": "dWaAOGiYBYcf",
        "outputId": "4a497354-b404-4b8b-c1f7-f3166134e618"
      },
      "outputs": [
        {
          "output_type": "stream",
          "name": "stdout",
          "text": [
            "Classificaation Report: \n",
            "\n",
            "               precision    recall  f1-score   support\n",
            "\n",
            "           1       0.93      0.98      0.95       856\n",
            "           2       0.00      0.00      0.00       106\n",
            "           3       0.49      0.91      0.64       247\n",
            "           4       0.65      0.42      0.51       157\n",
            "           6       0.00      0.00      0.00        15\n",
            "           7       0.78      0.83      0.80        75\n",
            "           8       0.00      0.00      0.00        31\n",
            "           9       0.00      0.00      0.00         6\n",
            "          11       0.00      0.00      0.00         7\n",
            "          13       1.00      0.21      0.35        33\n",
            "          14       0.00      0.00      0.00        14\n",
            "          15       0.00      0.00      0.00         1\n",
            "          16       0.50      0.98      0.66        42\n",
            "          17       0.00      0.00      0.00         9\n",
            "          18       0.00      0.00      0.00        12\n",
            "          20       0.00      0.00      0.00         1\n",
            "          21       0.00      0.00      0.00         2\n",
            "          22       0.00      0.00      0.00         9\n",
            "          23       0.00      0.00      0.00         5\n",
            "\n",
            "    accuracy                           0.76      1628\n",
            "   macro avg       0.23      0.23      0.21      1628\n",
            "weighted avg       0.70      0.76      0.71      1628\n",
            "\n"
          ]
        },
        {
          "output_type": "stream",
          "name": "stderr",
          "text": [
            "/usr/local/lib/python3.8/dist-packages/sklearn/metrics/_classification.py:1318: UndefinedMetricWarning: Precision and F-score are ill-defined and being set to 0.0 in labels with no predicted samples. Use `zero_division` parameter to control this behavior.\n",
            "  _warn_prf(average, modifier, msg_start, len(result))\n",
            "/usr/local/lib/python3.8/dist-packages/sklearn/metrics/_classification.py:1318: UndefinedMetricWarning: Precision and F-score are ill-defined and being set to 0.0 in labels with no predicted samples. Use `zero_division` parameter to control this behavior.\n",
            "  _warn_prf(average, modifier, msg_start, len(result))\n",
            "/usr/local/lib/python3.8/dist-packages/sklearn/metrics/_classification.py:1318: UndefinedMetricWarning: Precision and F-score are ill-defined and being set to 0.0 in labels with no predicted samples. Use `zero_division` parameter to control this behavior.\n",
            "  _warn_prf(average, modifier, msg_start, len(result))\n"
          ]
        }
      ],
      "source": [
        "from sklearn.metrics import confusion_matrix,classification_report\n",
        "import numpy as np\n",
        "\n",
        "print(\"Classificaation Report: \\n\\n\", classification_report(Y_test,pred))"
      ]
    }
  ],
  "metadata": {
    "accelerator": "GPU",
    "colab": {
      "machine_shape": "hm",
      "provenance": [],
      "include_colab_link": true
    },
    "gpuClass": "standard",
    "kernelspec": {
      "display_name": "Python 3",
      "name": "python3"
    },
    "language_info": {
      "name": "python"
    }
  },
  "nbformat": 4,
  "nbformat_minor": 0
}